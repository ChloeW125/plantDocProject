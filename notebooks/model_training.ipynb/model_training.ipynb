{
 "cells": [
  {
   "cell_type": "code",
   "execution_count": 1,
   "id": "dcc9534f-bc03-44de-bed7-9c38664009b2",
   "metadata": {},
   "outputs": [],
   "source": [
    "from tensorflow.keras.preprocessing.image import ImageDataGenerator \n",
    "from tensorflow.keras import layers, models, Input"
   ]
  },
  {
   "cell_type": "code",
   "execution_count": 2,
   "id": "513fdfbb-df5c-4778-bb92-a8a26f31dc2b",
   "metadata": {},
   "outputs": [],
   "source": [
    "train_datagen = ImageDataGenerator(\n",
    "    rescale=1./255,\n",
    "    rotation_range=20,       # randomly rotate images by up to 20 degrees\n",
    "    width_shift_range=0.2,   # shift image horizontally\n",
    "    height_shift_range=0.2,  # shift image vertically\n",
    "    shear_range=0.1,         # shear transformation\n",
    "    zoom_range=0.2,          # zoom in/out\n",
    "    horizontal_flip=True,    # flip image left-to-right\n",
    "    fill_mode='nearest',     # how to fill pixels when shifting/rotating\n",
    "    validation_split=0.2     # split 20% for validation\n",
    ")"
   ]
  },
  {
   "cell_type": "code",
   "execution_count": 3,
   "id": "25a67e5f-8190-4a63-bf3c-4c349b1bce1f",
   "metadata": {},
   "outputs": [],
   "source": [
    "val_datagen = ImageDataGenerator(rescale=1./255, validation_split=0.2)"
   ]
  },
  {
   "cell_type": "code",
   "execution_count": 4,
   "id": "299cbd9e-5028-45d1-a1cf-61bf49d7348a",
   "metadata": {},
   "outputs": [
    {
     "name": "stdout",
     "output_type": "stream",
     "text": [
      "Found 16516 images belonging to 15 classes.\n",
      "Found 4122 images belonging to 15 classes.\n"
     ]
    }
   ],
   "source": [
    "train = train_datagen.flow_from_directory(\n",
    "    r\"C:\\Users\\Chloe Wei\\plantDocProject\\data\\PlantVillage\",\n",
    "    target_size=(128, 128),\n",
    "    class_mode='categorical',\n",
    "    subset='training'\n",
    ")\n",
    "\n",
    "val = val_datagen.flow_from_directory(\n",
    "    r\"C:\\Users\\Chloe Wei\\plantDocProject\\data\\PlantVillage\",\n",
    "    target_size=(128, 128),\n",
    "    class_mode='categorical',\n",
    "    subset='validation'\n",
    ")\n"
   ]
  },
  {
   "cell_type": "code",
   "execution_count": 5,
   "id": "719de26b-c1b2-4594-8726-16eb5ecbfb91",
   "metadata": {},
   "outputs": [],
   "source": [
    "model = models.Sequential([\n",
    "    Input(shape=(128, 128, 3)),\n",
    "    layers.Conv2D(32, (3, 3), activation='relu'),\n",
    "    layers.MaxPooling2D(2, 2),\n",
    "    layers.Flatten(),\n",
    "    layers.Dense(128, activation='relu'),\n",
    "    layers.Dense(train.num_classes, activation='softmax')\n",
    "])"
   ]
  },
  {
   "cell_type": "code",
   "execution_count": 6,
   "id": "b0da3ccc-2b31-4594-b221-c8e0474aac1f",
   "metadata": {},
   "outputs": [],
   "source": [
    "model.compile(optimizer='adam', loss='categorical_crossentropy', metrics=['accuracy'])"
   ]
  },
  {
   "cell_type": "code",
   "execution_count": 7,
   "id": "0357b4ee-c66a-43be-bce3-20e076ed3e4c",
   "metadata": {},
   "outputs": [
    {
     "name": "stderr",
     "output_type": "stream",
     "text": [
      "C:\\Users\\Chloe Wei\\AppData\\Local\\Programs\\Python\\Python312\\Lib\\site-packages\\keras\\src\\trainers\\data_adapters\\py_dataset_adapter.py:121: UserWarning: Your `PyDataset` class should call `super().__init__(**kwargs)` in its constructor. `**kwargs` can include `workers`, `use_multiprocessing`, `max_queue_size`. Do not pass these arguments to `fit()`, as they will be ignored.\n",
      "  self._warn_if_super_not_called()\n"
     ]
    },
    {
     "name": "stdout",
     "output_type": "stream",
     "text": [
      "Epoch 1/5\n",
      "\u001b[1m517/517\u001b[0m \u001b[32m━━━━━━━━━━━━━━━━━━━━\u001b[0m\u001b[37m\u001b[0m \u001b[1m280s\u001b[0m 537ms/step - accuracy: 0.2805 - loss: 3.4589 - val_accuracy: 0.5730 - val_loss: 1.2817\n",
      "Epoch 2/5\n",
      "\u001b[1m517/517\u001b[0m \u001b[32m━━━━━━━━━━━━━━━━━━━━\u001b[0m\u001b[37m\u001b[0m \u001b[1m244s\u001b[0m 471ms/step - accuracy: 0.6017 - loss: 1.2499 - val_accuracy: 0.4903 - val_loss: 1.7341\n",
      "Epoch 3/5\n",
      "\u001b[1m517/517\u001b[0m \u001b[32m━━━━━━━━━━━━━━━━━━━━\u001b[0m\u001b[37m\u001b[0m \u001b[1m252s\u001b[0m 487ms/step - accuracy: 0.6689 - loss: 1.0172 - val_accuracy: 0.6300 - val_loss: 1.3159\n",
      "Epoch 4/5\n",
      "\u001b[1m517/517\u001b[0m \u001b[32m━━━━━━━━━━━━━━━━━━━━\u001b[0m\u001b[37m\u001b[0m \u001b[1m267s\u001b[0m 497ms/step - accuracy: 0.6869 - loss: 0.9340 - val_accuracy: 0.6912 - val_loss: 0.9665\n",
      "Epoch 5/5\n",
      "\u001b[1m517/517\u001b[0m \u001b[32m━━━━━━━━━━━━━━━━━━━━\u001b[0m\u001b[37m\u001b[0m \u001b[1m255s\u001b[0m 493ms/step - accuracy: 0.7205 - loss: 0.8302 - val_accuracy: 0.6608 - val_loss: 1.0955\n"
     ]
    },
    {
     "data": {
      "text/plain": [
       "<keras.src.callbacks.history.History at 0x247cfae5730>"
      ]
     },
     "execution_count": 7,
     "metadata": {},
     "output_type": "execute_result"
    }
   ],
   "source": [
    "model.fit(train, validation_data=val, epochs=5)"
   ]
  },
  {
   "cell_type": "code",
   "execution_count": null,
   "id": "995a0642-3ae0-4f2d-9e27-d1b9bc301723",
   "metadata": {},
   "outputs": [],
   "source": [
    "model.save('plant_disease_model.keras') "
   ]
  }
 ],
 "metadata": {
  "kernelspec": {
   "display_name": "Python 3 (ipykernel)",
   "language": "python",
   "name": "python3"
  },
  "language_info": {
   "codemirror_mode": {
    "name": "ipython",
    "version": 3
   },
   "file_extension": ".py",
   "mimetype": "text/x-python",
   "name": "python",
   "nbconvert_exporter": "python",
   "pygments_lexer": "ipython3",
   "version": "3.12.5"
  }
 },
 "nbformat": 4,
 "nbformat_minor": 5
}
